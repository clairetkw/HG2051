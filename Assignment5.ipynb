{
 "cells": [
  {
   "cell_type": "markdown",
   "metadata": {},
   "source": [
    "Before you turn this problem in, make sure everything runs as expected. First, **restart the kernel** (in the menubar, select Kernel$\\rightarrow$Restart) and then **run all cells** (in the menubar, select Cell$\\rightarrow$Run All).\n",
    "\n",
    "Make sure you fill in any place that says `YOUR CODE HERE` or \"YOUR ANSWER HERE\", as well as your name and collaborators below:"
   ]
  },
  {
   "cell_type": "code",
   "execution_count": 1,
   "metadata": {},
   "outputs": [],
   "source": [
    "NAME = \"Teo Kai Wen\"\n",
    "COLLABORATORS = \"\""
   ]
  },
  {
   "cell_type": "markdown",
   "metadata": {},
   "source": [
    "---"
   ]
  },
  {
   "cell_type": "markdown",
   "metadata": {},
   "source": [
    "# Assignment 5\n",
    "\n",
    "This assignment gives you practice with file paths, with buffers such as open files and web connections, as well as with string encoding and decoding. You may want to review the [week 06 lecture notes](http://compling.hss.ntu.edu.sg/courses/hg2051/week06.html) or [notebook](http://compling.hss.ntu.edu.sg/courses/hg2051/week06.ipynb).\n",
    "\n",
    "**NOTE:** Each step of this assignment depends on the step before it. If you're stuck on one part for more than 10 minutes, please email me or ask a classmate for help, as you won't be able to move on otherwise.\n",
    "\n",
    "For your convenience, use `dirname` as the base directory to store your files in. I will create a `TemporaryDirectory` object for it now. Run the final cell in the notebook to delete the temporary directory."
   ]
  },
  {
   "cell_type": "code",
   "execution_count": 2,
   "metadata": {},
   "outputs": [],
   "source": [
    "import os                   # for os.path\n",
    "from urllib import request  # for request.urlopen()\n",
    "import tempfile             # for tempfile.TemporaryDirectory\n",
    "\n",
    "tempdir = tempfile.TemporaryDirectory()\n",
    "dirname = tempdir.name"
   ]
  },
  {
   "cell_type": "markdown",
   "metadata": {},
   "source": [
    "### Get the URL of a sample file (1 point)\n",
    "\n",
    "Visit the following website and select a file. Copy the URL of the file into the `url` variable below.\n",
    "\n",
    "http://andrew.triumf.ca/multilingual/samples/samples.html\n",
    "\n",
    "Any of the files in the bulleted list is fine."
   ]
  },
  {
   "cell_type": "code",
   "execution_count": 30,
   "metadata": {
    "deletable": false,
    "nbgrader": {
     "checksum": "959644b80655bd3152622f8ed8dbbd97",
     "grade": false,
     "grade_id": "cell-81a316cf9dc2441f",
     "locked": false,
     "schema_version": 1,
     "solution": true
    }
   },
   "outputs": [],
   "source": [
    "url = 'http://andrew.triumf.ca/multilingual/samples/french.html'  # Copy URL here as string"
   ]
  },
  {
   "cell_type": "code",
   "execution_count": 31,
   "metadata": {
    "deletable": false,
    "editable": false,
    "nbgrader": {
     "checksum": "b60c50450a4de75c247a2245d7b81756",
     "grade": true,
     "grade_id": "cell-ec6853549faa2ebd",
     "locked": true,
     "points": 1,
     "schema_version": 1,
     "solution": false
    }
   },
   "outputs": [],
   "source": [
    "assert url.startswith('http://andrew.triumf.ca/multilingual/samples/'), 'URL is not from the specified domain'"
   ]
  },
  {
   "cell_type": "markdown",
   "metadata": {},
   "source": [
    "#### Download the file to a `bytes` object (2 points)\n",
    "\n",
    "Use [urllib.request.urlopen()][] with `url` as shown in class to download the file to a variable named `raw`. Do not decode the binary data yet. This step may be done in a single line or several, but it shouldn't be complicated.\n",
    "\n",
    "[urllib.request.urlopen()]: https://docs.python.org/3/library/urllib.request.html#urllib.request.urlopen"
   ]
  },
  {
   "cell_type": "code",
   "execution_count": 37,
   "metadata": {
    "deletable": false,
    "nbgrader": {
     "checksum": "03b39d81efa2694a4f73ec730f937c80",
     "grade": false,
     "grade_id": "cell-3e1051e7a6840c67",
     "locked": false,
     "schema_version": 1,
     "solution": true
    }
   },
   "outputs": [],
   "source": [
    "from urllib import request\n",
    "response = request.urlopen(url)\n",
    "raw = response.read()  # Download the bytes from the URL"
   ]
  },
  {
   "cell_type": "code",
   "execution_count": 38,
   "metadata": {
    "deletable": false,
    "editable": false,
    "nbgrader": {
     "checksum": "7dee5885bf866a33995cf4926e69c0ba",
     "grade": true,
     "grade_id": "cell-089a6597f75b87e6",
     "locked": true,
     "points": 2,
     "schema_version": 1,
     "solution": false
    }
   },
   "outputs": [],
   "source": [
    "assert isinstance(raw, bytes), \"'raw' is not a bytes object\"\n",
    "assert len(raw) > 0, \"'raw' is empty\""
   ]
  },
  {
   "cell_type": "markdown",
   "metadata": {},
   "source": [
    "### Decoding the bytes to unicode (1 point)\n",
    "\n",
    "You will now convert the bytes into a unicode string with the proper encoding using [bytes.decode()](https://docs.python.org/3/library/stdtypes.html#bytes.decode). Recall the encoding that was specified on the website for the file you downloaded. Now consult the [list of standard encodings](https://docs.python.org/3/library/codecs.html#standard-encodings) in Python and ensure your file's encoding is there (the encoding may be listed in the 'Aliases' column; if it is not anywhere, try a similarly-named encoding or choose a different file above). Store the decoded data into the `data` variable."
   ]
  },
  {
   "cell_type": "code",
   "execution_count": 125,
   "metadata": {
    "deletable": false,
    "nbgrader": {
     "checksum": "7d2c828c958680dd0a0e99ef39b0dbed",
     "grade": false,
     "grade_id": "cell-b1df81e196f37525",
     "locked": false,
     "schema_version": 1,
     "solution": true
    }
   },
   "outputs": [],
   "source": [
    "data = raw.decode(encoding = \"latin_1\")  # decode raw using the appropriate encoding"
   ]
  },
  {
   "cell_type": "code",
   "execution_count": 65,
   "metadata": {
    "deletable": false,
    "editable": false,
    "nbgrader": {
     "checksum": "215b46355fd024ac2d4c1d6c48a0115b",
     "grade": true,
     "grade_id": "cell-11c89a7870a2600e",
     "locked": true,
     "points": 1,
     "schema_version": 1,
     "solution": false
    }
   },
   "outputs": [],
   "source": [
    "assert isinstance(data, str), \"'data' is not a string object\"\n",
    "assert len(data) > 0, \"'data' is empty\""
   ]
  },
  {
   "cell_type": "markdown",
   "metadata": {},
   "source": [
    "### Make a new path (1 point)\n",
    "\n",
    "Before saving `data` to disk, you need a file path. Make up some path using `dirname` and [os.path.join()][], and assign it to the variable `path`.\n",
    "\n",
    "Note that I may not be using the same operating system as you when grading, so if you just do string operations like this:\n",
    "\n",
    "```python\n",
    "path = dirname + '\\\\myfile.txt'\n",
    "```\n",
    "\n",
    "... it might not work for me. This is why [os.path.join()][] is important.\n",
    "\n",
    "[os.path.join()]: https://docs.python.org/3/library/os.path.html#os.path.join"
   ]
  },
  {
   "cell_type": "code",
   "execution_count": 107,
   "metadata": {
    "deletable": false,
    "nbgrader": {
     "checksum": "ed076a199ced4866ca79787ad19f3487",
     "grade": false,
     "grade_id": "cell-3bdffdf4eb2ba9f4",
     "locked": false,
     "schema_version": 1,
     "solution": true
    }
   },
   "outputs": [],
   "source": [
    "path = os.path.join(dirname, 'Documents')  # Make up a path for the downloaded file"
   ]
  },
  {
   "cell_type": "code",
   "execution_count": 108,
   "metadata": {
    "deletable": false,
    "editable": false,
    "nbgrader": {
     "checksum": "f3ca501760e6e4301af61529ddfdecf1",
     "grade": true,
     "grade_id": "cell-64fd6d90823564b8",
     "locked": true,
     "points": 1,
     "schema_version": 1,
     "solution": false
    }
   },
   "outputs": [],
   "source": [
    "assert os.path.exists(os.path.dirname(path)), 'Parent directory does not exist'"
   ]
  },
  {
   "cell_type": "markdown",
   "metadata": {},
   "source": [
    "### Write `data` to a file (2 points)\n",
    "\n",
    "Use the `with` syntax and the [open()](https://docs.python.org/3/library/functions.html#open) function to open `path` for **writing in text mode with the `utf-8` encoding**. Then write `data` to the open file object. Use `fileobj.write(...)` as shown in class instead of `print(..., file=fileobj)` (as shown in the NLTK reading), because the latter adds an extra newline (`\\n` (mac, Linux) or `\\r\\n` (Windows))."
   ]
  },
  {
   "cell_type": "code",
   "execution_count": 109,
   "metadata": {
    "deletable": false,
    "nbgrader": {
     "checksum": "cbf6da62b0fddd76334a918504d905da",
     "grade": false,
     "grade_id": "cell-31ae88f2e09476db",
     "locked": false,
     "schema_version": 1,
     "solution": true
    }
   },
   "outputs": [],
   "source": [
    "with open(path, 'w+', encoding = \"utf-8\") as obj:\n",
    "        obj.write(data)\n",
    "#with open(path, mode = 'wt', encoding = 'utf-8') as f:\n",
    "    #f.write(data)"
   ]
  },
  {
   "cell_type": "code",
   "execution_count": 110,
   "metadata": {
    "deletable": false,
    "editable": false,
    "nbgrader": {
     "checksum": "e7169869afb1c79d572f8f2cea471a12",
     "grade": true,
     "grade_id": "cell-06b97399b7c94f54",
     "locked": true,
     "points": 2,
     "schema_version": 1,
     "solution": false
    }
   },
   "outputs": [],
   "source": [
    "assert os.path.isfile(path), 'File does not exist at path'\n",
    "assert os.stat(path).st_size > 0, 'File at path is empty'"
   ]
  },
  {
   "cell_type": "markdown",
   "metadata": {},
   "source": [
    "### Read the data back from the file (1 point)\n",
    "\n",
    "Use the `with` syntax and the [open()](https://docs.python.org/3/library/functions.html#open) function to open `path` for **reading in binary mode**. Read the data to a variable named `raw2`."
   ]
  },
  {
   "cell_type": "code",
   "execution_count": 116,
   "metadata": {
    "deletable": false,
    "nbgrader": {
     "checksum": "a728f4fb0eef6e33591e3ae3b3c61f91",
     "grade": false,
     "grade_id": "cell-97aa9d05974db7fe",
     "locked": false,
     "schema_version": 1,
     "solution": true
    }
   },
   "outputs": [],
   "source": [
    "with open(path, 'rb') as obj2:\n",
    "    raw2 = obj2.read()"
   ]
  },
  {
   "cell_type": "code",
   "execution_count": 120,
   "metadata": {
    "deletable": false,
    "editable": false,
    "nbgrader": {
     "checksum": "1b7fb38a5330f8a74a4b456830c1b07b",
     "grade": true,
     "grade_id": "cell-f912edec94f82a19",
     "locked": true,
     "points": 1,
     "schema_version": 1,
     "solution": false
    }
   },
   "outputs": [],
   "source": [
    "assert isinstance(raw2, bytes), \"'raw2' is not a bytes object\"\n",
    "assert len(raw2) > 0, \"'raw2' is empty\""
   ]
  },
  {
   "cell_type": "code",
   "execution_count": 129,
   "metadata": {},
   "outputs": [
    {
     "data": {
      "text/plain": [
       "'\\n<HEAD>\\n<TITLE>French / Français (ISO Latin-1 / ISO 8859-1)</TITLE>\\n</HEAD>\\n<BODY>\\n<H1>French / Français (ISO Latin-1 / ISO 8859-1)</H1>\\nBonjour, Salut\\n</BODY>\\n'"
      ]
     },
     "execution_count": 129,
     "metadata": {},
     "output_type": "execute_result"
    }
   ],
   "source": [
    "raw.decode('latin_1')"
   ]
  },
  {
   "cell_type": "code",
   "execution_count": 130,
   "metadata": {},
   "outputs": [
    {
     "data": {
      "text/plain": [
       "'\\n<HEAD>\\n<TITLE>French / Français (ISO Latin-1 / ISO 8859-1)</TITLE>\\n</HEAD>\\n<BODY>\\n<H1>French / Français (ISO Latin-1 / ISO 8859-1)</H1>\\nBonjour, Salut\\n</BODY>\\n'"
      ]
     },
     "execution_count": 130,
     "metadata": {},
     "output_type": "execute_result"
    }
   ],
   "source": [
    "raw2.decode('utf8')"
   ]
  },
  {
   "cell_type": "markdown",
   "metadata": {},
   "source": [
    "### Comparison (1 point)\n",
    "\n",
    "Both `raw` and `raw2` are `bytes` objects representing the same data. Are they equal? Why or why not?"
   ]
  },
  {
   "cell_type": "code",
   "execution_count": 118,
   "metadata": {},
   "outputs": [
    {
     "data": {
      "text/plain": [
       "False"
      ]
     },
     "execution_count": 118,
     "metadata": {},
     "output_type": "execute_result"
    }
   ],
   "source": [
    "raw == raw2"
   ]
  },
  {
   "cell_type": "markdown",
   "metadata": {
    "deletable": false,
    "nbgrader": {
     "checksum": "d3f65a41a57aa70f411ec112db3f8747",
     "grade": true,
     "grade_id": "cell-f3a4f3b10e9fe451",
     "locked": false,
     "points": 1,
     "schema_version": 1,
     "solution": true
    }
   },
   "source": [
    "No. raw is encoded with latin_1 and raw is encoded with utf8."
   ]
  },
  {
   "cell_type": "markdown",
   "metadata": {},
   "source": [
    "### The capabilities of buffers (1 point)\n",
    "\n",
    "Buffers are a way to work with streaming data (reading from the hard disk, transmitting across the internet, etc.). Unlike unicode strings, byte strings, lists, etc., buffers cannot report their size (`len(mybuffer)`) nor allow random access (`mybuffer[100:150]`). Why is that? \n",
    "\n",
    "(You may notice that some buffers, like when watching YouTube videos, allow you to see how long the video is and to jump to the middle or the end, but these are capabilities of the overall system and not the buffer itself. E.g., the video length (and file size) are sent separately as metadata. And when you jump in the video, the player has to buffer some data again before it will play.)"
   ]
  },
  {
   "cell_type": "markdown",
   "metadata": {
    "deletable": false,
    "nbgrader": {
     "checksum": "6ad1e8cb6119690c745194813e6be6cb",
     "grade": true,
     "grade_id": "cell-654afc7f95d0f7b2",
     "locked": false,
     "points": 1,
     "schema_version": 1,
     "solution": true
    }
   },
   "source": [
    "Buffers are not fixed in size and are only iterable."
   ]
  },
  {
   "cell_type": "markdown",
   "metadata": {},
   "source": [
    "## Cleaning up\n",
    "\n",
    "Run the following cell to delete the temporary directory and its contents."
   ]
  },
  {
   "cell_type": "code",
   "execution_count": null,
   "metadata": {},
   "outputs": [],
   "source": [
    "tempdir.cleanup()"
   ]
  }
 ],
 "metadata": {
  "kernelspec": {
   "display_name": "Python 3",
   "language": "python",
   "name": "python3"
  },
  "language_info": {
   "codemirror_mode": {
    "name": "ipython",
    "version": 3
   },
   "file_extension": ".py",
   "mimetype": "text/x-python",
   "name": "python",
   "nbconvert_exporter": "python",
   "pygments_lexer": "ipython3",
   "version": "3.7.3"
  }
 },
 "nbformat": 4,
 "nbformat_minor": 2
}
