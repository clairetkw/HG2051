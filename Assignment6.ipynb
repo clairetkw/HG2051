{
 "cells": [
  {
   "cell_type": "markdown",
   "metadata": {},
   "source": [
    "Before you turn this problem in, make sure everything runs as expected. First, **restart the kernel** (in the menubar, select Kernel$\\rightarrow$Restart) and then **run all cells** (in the menubar, select Cell$\\rightarrow$Run All).\n",
    "\n",
    "Make sure you fill in any place that says `YOUR CODE HERE` or \"YOUR ANSWER HERE\", as well as your name and collaborators below:"
   ]
  },
  {
   "cell_type": "code",
   "execution_count": 1,
   "metadata": {},
   "outputs": [],
   "source": [
    "NAME = \"Teo Kai Wen\"\n",
    "COLLABORATORS = \"\""
   ]
  },
  {
   "cell_type": "markdown",
   "metadata": {},
   "source": [
    "---"
   ]
  },
  {
   "cell_type": "markdown",
   "metadata": {},
   "source": [
    "# Assignment 6\n",
    "\n",
    "This assignment gives you practice with regular expressions.\n",
    "\n",
    "First you should import the `re` module, and also some other things for testing:"
   ]
  },
  {
   "cell_type": "code",
   "execution_count": 1,
   "metadata": {},
   "outputs": [],
   "source": [
    "import re\n",
    "import nltk\n",
    "from nltk.corpus import gutenberg, names\n",
    "import matplotlib as plt"
   ]
  },
  {
   "cell_type": "markdown",
   "metadata": {},
   "source": [
    "## Understanding Patterns (2 points)\n",
    "\n",
    "Give a one sentence (or one phrase) description of the following patterns and an example that would match. For instance, for the pattern `[aeiou]\\d+` might be described as \"one vowel followed by one or more digits\" with an example \"a12\"; `\\w+ing` might be described as \"a word ending in 'ing'\" with an example \"studying\".\n",
    "\n",
    "1. `[+-]?\\d+`\n",
    "2. `(un|non|anti|contra|counter|dis|de|mis)\\w+`"
   ]
  },
  {
   "cell_type": "markdown",
   "metadata": {
    "deletable": false,
    "nbgrader": {
     "checksum": "8767ecf63b28ff5d70ffb4957a57f311",
     "grade": true,
     "grade_id": "cell-b4a6b62266eee4fa",
     "locked": false,
     "points": 2,
     "schema_version": 1,
     "solution": true
    }
   },
   "source": [
    "1. Zero or one instance of \"+\" or \"-\" followed by one or more digit characters (e.g. +32)\n",
    "2. An instance of \"un\" or \"non\" or \"anti\".... or \"mis\" followed by one or more word characters (e.g. misnomer)"
   ]
  },
  {
   "cell_type": "markdown",
   "metadata": {},
   "source": [
    "## Matching (6 points)\n",
    "\n",
    "For each of the following, create a regular expression that passes its tests. Store the regular expression pattern string in a variable called `pattern` (to make it easier to test). For example, if you are to create a pattern for positive or negative integers, you might do this:\n",
    "\n",
    "```python\n",
    "pattern = r'-?\\d+'\n",
    "```\n",
    "\n",
    "... which is then tested like this:\n",
    "\n",
    "```python\n",
    "assert re.findall(pattern, '5 -11 abc') == ['5', '-11']\n",
    "```\n",
    "\n",
    "### Words that are 16 or more letters (1 point)\n",
    "\n",
    "Match complete words that have length 16 or greater. For instance, \"navigation\" (10 letters) is not matched, but \"circumnavigation\" (16 letters) is."
   ]
  },
  {
   "cell_type": "code",
   "execution_count": 7,
   "metadata": {
    "deletable": false,
    "nbgrader": {
     "checksum": "a16421c18a1a44094818a30cdfb2c903",
     "grade": false,
     "grade_id": "cell-1793b5fef8656ffa",
     "locked": false,
     "schema_version": 1,
     "solution": true
    }
   },
   "outputs": [],
   "source": [
    "pattern = r'\\w{16,}'  # FILL IN THE PATTERN"
   ]
  },
  {
   "cell_type": "code",
   "execution_count": 8,
   "metadata": {
    "deletable": false,
    "editable": false,
    "nbgrader": {
     "checksum": "d5c5e048f06a7eee9f4f3c6dcb775177",
     "grade": true,
     "grade_id": "cell-f551e1f4c0adeba9",
     "locked": true,
     "points": 1,
     "schema_version": 1,
     "solution": false
    }
   },
   "outputs": [
    {
     "name": "stdout",
     "output_type": "stream",
     "text": [
      "All tests passed!\n",
      "['CIRCUMNAVIGATION', 'uncomfortableness', 'cannibalistically', 'circumnavigations', 'superstitiousness', 'apprehensiveness', 'indiscriminately', 'indiscriminately', 'superstitiousness', 'comprehensiveness', 'circumnavigating', 'preternaturalness', 'circumnavigation', 'apprehensiveness', 'indiscriminately', 'simultaneousness', 'indispensableness', 'apprehensiveness', 'undiscriminating', 'irresistibleness', 'Physiognomically', 'physiognomically', 'physiognomically', 'circumnavigation', 'hermaphroditical', 'circumnavigating', 'characteristically', 'comprehensiveness', 'comprehensiveness', 'uncompromisedness', 'uninterpenetratingly', 'responsibilities', 'supernaturalness', 'subterraneousness', 'apprehensiveness', 'simultaneousness']\n"
     ]
    }
   ],
   "source": [
    "assert not re.match(pattern, 'navigation')\n",
    "assert re.match(pattern, 'circumnavigation')\n",
    "\n",
    "longwords = re.findall(pattern, gutenberg.raw('melville-moby_dick.txt'))\n",
    "assert all(len(w) >= 16 for w in longwords)\n",
    "assert len(longwords) == 36  # there should be this many in Moby Dick\n",
    "print('All tests passed!')\n",
    "print(longwords)"
   ]
  },
  {
   "cell_type": "markdown",
   "metadata": {},
   "source": [
    "### NRIC numbers (1 points)\n",
    "\n",
    "The format for Singapore's NRIC numbers is the following ([source](https://en.wikipedia.org/wiki/National_Registration_Identity_Card#Structure_of_the_NRIC_number.2FFIN)):\n",
    "\n",
    "    #0123456@\n",
    "    \n",
    "Where:\n",
    "\n",
    "* `#` is one of 'S', 'T', 'F', or 'G'\n",
    "* `0123456` is a sequence of 7 digits\n",
    "* `@` is an uppercase letter ('A' through 'Z')\n",
    "\n",
    "**NOTE:** the pattern must fully match the string; there should be no extra characters before or after (see the tests)."
   ]
  },
  {
   "cell_type": "code",
   "execution_count": 11,
   "metadata": {
    "deletable": false,
    "nbgrader": {
     "checksum": "9fcef412213a997c98a3953abb2fbcb6",
     "grade": false,
     "grade_id": "cell-193ef12c54873421",
     "locked": false,
     "schema_version": 1,
     "solution": true
    }
   },
   "outputs": [],
   "source": [
    "pattern = r'^[STFG]\\d{7}[A-Z]$'  # FILL IN THE PATTERN"
   ]
  },
  {
   "cell_type": "code",
   "execution_count": 12,
   "metadata": {
    "deletable": false,
    "editable": false,
    "nbgrader": {
     "checksum": "86fd3ffcc90c47e2a4f7fc148b6ce4f1",
     "grade": true,
     "grade_id": "cell-b3719c777bff0fb8",
     "locked": true,
     "points": 1,
     "schema_version": 1,
     "solution": false
    }
   },
   "outputs": [
    {
     "name": "stdout",
     "output_type": "stream",
     "text": [
      "All tests passed!\n"
     ]
    }
   ],
   "source": [
    "assert re.search(pattern, 'S0000001I')\n",
    "assert re.search(pattern, 'S0000003E')\n",
    "assert re.search(pattern, 'G0123456Q')\n",
    "assert not re.search(pattern, 'S012345Z')       # too few digits\n",
    "assert not re.search(pattern, '  S0123456Z  ')  # extra characters\n",
    "assert not re.search(pattern, 'A0123456B')      # invalid prefix\n",
    "assert not re.search(pattern, 's0123456B')      # lowercase prefix\n",
    "assert not re.search(pattern, 'S0123456b')      # lowercase suffix\n",
    "assert not re.search(pattern, 'F0123456DEFG')   # too many suffixes\n",
    "assert not re.search(pattern, 'F0123')          # incomplete\n",
    "print('All tests passed!')"
   ]
  },
  {
   "cell_type": "markdown",
   "metadata": {},
   "source": [
    "### CVCVC patterns (2 points)\n",
    "\n",
    "Match words (in our case, names) that follow a CVCVC pattern, where C is a consonant cluster (one or more consonants) and V is a vowel cluster (including 'a', 'e', 'i', 'o', and 'u' (and 'y' if you want)). For convenience, you may choose to define a consonant as \"not a vowel\".\n",
    "\n",
    "**HINT:** You probably want to use character classes `[...]`/`[^...]` for is-a-vowel and is-not-a-vowel.\n",
    "\n",
    "**NOTE:** The first letter is probably upper case, so A, E, I, O, and U would match not-a-vowel if you only define vowels as lower-case. You may assume letters after the first one are all lower-case."
   ]
  },
  {
   "cell_type": "code",
   "execution_count": 307,
   "metadata": {
    "deletable": false,
    "nbgrader": {
     "checksum": "054b9910e24b3c2a4e179d8af4ec530d",
     "grade": false,
     "grade_id": "cell-024c8dc0be6471e7",
     "locked": false,
     "schema_version": 1,
     "solution": true
    }
   },
   "outputs": [],
   "source": [
    "pattern = r'^[^AEIOUaeiou]+[aeiou]+[^aeiou]+[aeiou]+[^aeiou]+$'  # FILL IN THE PATTERN"
   ]
  },
  {
   "cell_type": "code",
   "execution_count": 308,
   "metadata": {
    "deletable": false,
    "editable": false,
    "nbgrader": {
     "checksum": "72dc36a8d4a4704c80062e8491e5422c",
     "grade": true,
     "grade_id": "cell-b0f11311b5267d39",
     "locked": true,
     "points": 2,
     "schema_version": 1,
     "solution": false
    }
   },
   "outputs": [
    {
     "name": "stdout",
     "output_type": "stream",
     "text": [
      "All tests passed!\n",
      "1068/2943 (36.29%) male names\n",
      "557/5001 (11.14%) female names\n"
     ]
    }
   ],
   "source": [
    "assert re.search(pattern, 'Peter')\n",
    "assert not re.search(pattern, 'Pete')\n",
    "assert not re.search(pattern, 'Benjamin')\n",
    "assert re.search(pattern, 'Christal')\n",
    "assert not re.search(pattern, 'Christle')\n",
    "assert re.search(pattern, 'Samuel')\n",
    "assert not re.search(pattern, 'Shalini')\n",
    "print('All tests passed!')\n",
    "\n",
    "male_names = names.words('male.txt')\n",
    "female_names = names.words('female.txt')\n",
    "male_cvcvc = len([name for name in male_names if re.search(pattern, name)])\n",
    "female_cvcvc = len([name for name in female_names if re.search(pattern, name)])\n",
    "print('{}/{} ({:.2%}) male names'.format(male_cvcvc, len(male_names), male_cvcvc/len(male_names)))\n",
    "print('{}/{} ({:.2%}) female names'.format(female_cvcvc, len(female_names), female_cvcvc/len(female_names)))"
   ]
  },
  {
   "cell_type": "markdown",
   "metadata": {},
   "source": [
    "### Words following \"have\" or \"had\" and end in \"en\" (2 points)\n",
    "\n",
    "For example, in \"They had given Thad eleven books.\", the pattern matches \"given\" but not \"eleven\".\n",
    "\n",
    "For this you will need to use both capturing groups `(...)` and non-capturing groups `(?:...)`. Note how `re.findall()` keeps only the matches inside capturing groups if they are used:\n",
    "\n",
    "```python\n",
    ">>> re.findall(r'[a-z]\\d', 'a1 b2 c3')        # without groups\n",
    "['a1', 'b2', 'c3']\n",
    ">>> re.findall(r'([a-z])(\\d)', 'a1 b2 c3')    # with multiple capturing groups\n",
    "[('a', '1'), ('b', '2'), ('c', '3')]\n",
    ">>> re.findall(r'(?:[a-z])(\\d)', 'a1 b2 c3')  # with one non-capturing and one capturing group\n",
    "['1', '2', '3']\n",
    "```\n",
    "\n",
    "**HINT:** Recall the `\\b` pattern which matches word boundaries."
   ]
  },
  {
   "cell_type": "code",
   "execution_count": 380,
   "metadata": {
    "deletable": false,
    "nbgrader": {
     "checksum": "aec86474c8b14608cda5d6c7fd0d112b",
     "grade": false,
     "grade_id": "cell-fb4a968218f414ab",
     "locked": false,
     "schema_version": 1,
     "solution": true
    },
    "scrolled": true
   },
   "outputs": [],
   "source": [
    "pattern = r'\\b(?:have\\s|had\\s)(\\w*en\\b)' # FILL IN THE PATTERN"
   ]
  },
  {
   "cell_type": "code",
   "execution_count": 379,
   "metadata": {
    "deletable": false,
    "editable": false,
    "nbgrader": {
     "checksum": "9dff3b99c0f33105bfd40e4e1bf55c0a",
     "grade": true,
     "grade_id": "cell-8b23d6cda1742134",
     "locked": true,
     "points": 2,
     "schema_version": 1,
     "solution": false
    }
   },
   "outputs": [
    {
     "name": "stdout",
     "output_type": "stream",
     "text": [
      "All tests passed!\n",
      "Number of matches: 874 (should be almost 800)\n"
     ]
    },
    {
     "data": {
      "image/png": "[encoded data removed]",
      "text/plain": [
       "<Figure size 864x360 with 1 Axes>"
      ]
     },
     "metadata": {
      "needs_background": "light"
     },
     "output_type": "display_data"
    },
    {
     "data": {
      "text/plain": [
       "<matplotlib.axes._subplots.AxesSubplot at 0x10e564eb8>"
      ]
     },
     "execution_count": 379,
     "metadata": {},
     "output_type": "execute_result"
    }
   ],
   "source": [
    "%matplotlib inline\n",
    "plt.rcParams['figure.figsize'] = [12, 5]  # just for the plot; not a test\n",
    "\n",
    "assert re.findall(pattern, 'They had given Thad eleven books.') == ['given']\n",
    "assert re.findall(pattern, 'You have written a good regular expression.') == ['written']\n",
    "\n",
    "irreg_participles = re.findall(pattern, gutenberg.raw('bible-kjv.txt'))\n",
    "assert all(w.endswith('en') for w in irreg_participles)\n",
    "\n",
    "print('All tests passed!')\n",
    "\n",
    "print('Number of matches:', len(irreg_participles), '(should be almost 800)')\n",
    "nltk.FreqDist(irreg_participles).plot()"
   ]
  },
  {
   "cell_type": "markdown",
   "metadata": {},
   "source": [
    "## Substitutions\n",
    "\n",
    "As above, assign the regular expression string to `pattern`, but now also assign the replacement string to `replace` in order to do substitutions. For example, to replace [keyboard with leopard](https://xkcd.com/1031/), do this:\n",
    "\n",
    "```python\n",
    "pattern = 'keyboard'\n",
    "replace = 'leopard'\n",
    "```\n",
    "\n",
    "Which is then tested like this:\n",
    "\n",
    "```python\n",
    "assert re.sub(pattern, replace, 'Problem exists between keyboard and chair.') == 'Problem exists between leopard and chair.'\n",
    "```\n",
    "\n",
    "### Replace 'og' at the end of a word with 'ogue' (1 point)\n",
    "\n",
    "This is a ~~meager~~ meagre attempt to convert some American spellings to British. For example, to convert \"catalog\" to \"catalogue\". The `\\b` (word boundary) pattern may be useful."
   ]
  },
  {
   "cell_type": "code",
   "execution_count": 386,
   "metadata": {
    "deletable": false,
    "nbgrader": {
     "checksum": "5860e3d50ace4805662cd04f9652126f",
     "grade": false,
     "grade_id": "cell-85c19fd593480484",
     "locked": false,
     "schema_version": 1,
     "solution": true
    }
   },
   "outputs": [],
   "source": [
    "pattern = r'g\\b'  # FILL IN THE PATTERN\n",
    "replace = r'gue'  # FILL IN THE REPLACEMENT"
   ]
  },
  {
   "cell_type": "code",
   "execution_count": 387,
   "metadata": {
    "deletable": false,
    "editable": false,
    "nbgrader": {
     "checksum": "b31e896abf1a26a8df2817a2d9e8bfb9",
     "grade": true,
     "grade_id": "cell-e32f6be6b02074a0",
     "locked": true,
     "points": 1,
     "schema_version": 1,
     "solution": false
    }
   },
   "outputs": [
    {
     "name": "stdout",
     "output_type": "stream",
     "text": [
      "All tests passed!\n"
     ]
    }
   ],
   "source": [
    "assert re.sub(pattern, replace, 'ogre monolog') == 'ogre monologue'\n",
    "assert re.sub(pattern, replace, 'toggle analog') == 'toggle analogue'\n",
    "assert re.sub(pattern, replace, 'doggy dog') == 'doggy dogue'  # <-- oh well, it's not perfect\n",
    "print('All tests passed!')"
   ]
  },
  {
   "cell_type": "markdown",
   "metadata": {},
   "source": [
    "### Creating TLAs (three-letter acronyms)\n",
    "\n",
    "Use capturing groups `(...)` and backreferences `\\1`, `\\2`, etc. to pick out the first letter of three successive words such that the first letter of each is uppercase. For example: \"I study at Nanyang Technological University\" becomes \"I study at NTU\"."
   ]
  },
  {
   "cell_type": "code",
   "execution_count": 557,
   "metadata": {
    "deletable": false,
    "nbgrader": {
     "checksum": "eebfc7a89f2ffbd416c598f5d63ac877",
     "grade": false,
     "grade_id": "cell-756831789aec9659",
     "locked": false,
     "schema_version": 1,
     "solution": true
    }
   },
   "outputs": [
    {
     "data": {
      "text/plain": [
       "'I study at NTU.'"
      ]
     },
     "execution_count": 557,
     "metadata": {},
     "output_type": "execute_result"
    }
   ],
   "source": [
    "pattern = r'([A-Z])[a-z]+\\s([A-Z])[a-z]+\\s([A-Z])[a-z]+'  # FILL IN THE PATTERN\n",
    "re.findall(pattern, 'I study at Nanyang Technological University.')\n",
    "replace = r'\\1\\2\\3'  # FILL IN THE REPLACEMENT\n",
    "re.sub(pattern, replace, 'I study at Nanyang Technological University.')"
   ]
  },
  {
   "cell_type": "code",
   "execution_count": 558,
   "metadata": {
    "deletable": false,
    "editable": false,
    "nbgrader": {
     "checksum": "b9a2f9273e3846809e6a693fb2281700",
     "grade": true,
     "grade_id": "cell-910e3748bfafa255",
     "locked": true,
     "points": 1,
     "schema_version": 1,
     "solution": false
    }
   },
   "outputs": [
    {
     "name": "stdout",
     "output_type": "stream",
     "text": [
      "All tests passed!\n"
     ]
    }
   ],
   "source": [
    "assert re.sub(pattern, replace, 'I study at Nanyang Technological University.') == 'I study at NTU.'\n",
    "assert re.sub(pattern, replace, 'Take the Pan Island Expressway to Changi Business Park.') == 'Take the PIE to CBP.'\n",
    "assert re.sub(pattern, replace, \"Let's go to Din Tai Fung to eat Xiao Long Bao.\") == \"Let's go to DTF to eat XLB.\"\n",
    "print('All tests passed!')"
   ]
  },
  {
   "cell_type": "code",
   "execution_count": null,
   "metadata": {},
   "outputs": [],
   "source": []
  }
 ],
 "metadata": {
  "kernelspec": {
   "display_name": "Python 3",
   "language": "python",
   "name": "python3"
  },
  "language_info": {
   "codemirror_mode": {
    "name": "ipython",
    "version": 3
   },
   "file_extension": ".py",
   "mimetype": "text/x-python",
   "name": "python",
   "nbconvert_exporter": "python",
   "pygments_lexer": "ipython3",
   "version": "3.7.3"
  }
 },
 "nbformat": 4,
 "nbformat_minor": 2
}
