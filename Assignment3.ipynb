{
 "cells": [
  {
   "cell_type": "markdown",
   "metadata": {},
   "source": [
    "# Assignment 3\n",
    "\n",
    "This assignment gives you practice working with dictionaries and functions."
   ]
  },
  {
   "cell_type": "markdown",
   "metadata": {},
   "source": [
    "# Part 1: Dictionaries\n",
    "\n",
    "Dictionaries map keys to values. Like sets, they must have unique keys, and setting a key twice discards any previous value and keeps the latest one. First let's test your understanding of these concepts:"
   ]
  },
  {
   "cell_type": "markdown",
   "metadata": {
    "deletable": false,
    "editable": false,
    "nbgrader": {
     "checksum": "418a6cf7fcb873ebf6d83a7e8c534f12",
     "grade": false,
     "grade_id": "cell-8f3f50f34f90fec4",
     "locked": true,
     "schema_version": 1,
     "solution": false
    }
   },
   "source": [
    "Consider the following dictionary:\n",
    "\n",
    "```python\n",
    "d = {'a': 1,\n",
    "     'b': 2,\n",
    "     'a': 3}\n",
    "```\n",
    "\n",
    "What is the length of `d`?\n",
    "\n",
    "What is the value mapped by the key `'a'`?"
   ]
  },
  {
   "cell_type": "markdown",
   "metadata": {
    "deletable": false,
    "nbgrader": {
     "checksum": "0c50eaf87437eb4cd3dcab68233c9c85",
     "grade": true,
     "grade_id": "cell-668140db86be239d",
     "locked": false,
     "points": 2,
     "schema_version": 1,
     "solution": true
    }
   },
   "source": [
    "The length of d is 2. The value mapped by 'a' is 3."
   ]
  },
  {
   "cell_type": "markdown",
   "metadata": {},
   "source": [
    "These properties of dictionaries allow it, like sets, to be very fast for certain operations, such as key-value lookup and assignment. Let's demonstrate this by creating our own frequency distribution (like `nltk.FreqDist`). First we will see how long it takes to construct the frequency distribution using list methods. Since we want to pair each unique word with its count, we go over the set of words and use the `count()` method on the original list to see how many times it appears."
   ]
  },
  {
   "cell_type": "code",
   "execution_count": 1,
   "metadata": {
    "deletable": false,
    "editable": false,
    "nbgrader": {
     "checksum": "28570f62e0e527642d45ec26619aeccb",
     "grade": false,
     "grade_id": "cell-20461c340f461029",
     "locked": true,
     "schema_version": 1,
     "solution": false
    }
   },
   "outputs": [
    {
     "name": "stdout",
     "output_type": "stream",
     "text": [
      "Version 1: using list.count() (give it a few seconds)\n",
      "Version 1 took 4.5339145270008885 seconds\n",
      "Alice appears 50 times in the first 5000 words\n"
     ]
    }
   ],
   "source": [
    "import time\n",
    "import nltk\n",
    "\n",
    "alice_words = nltk.corpus.gutenberg.words('carroll-alice.txt')\n",
    "words_to_count = alice_words[:5000]\n",
    "unique_words = set(words_to_count)\n",
    "\n",
    "print('Version 1: using list.count() (give it a few seconds)')\n",
    "start = time.perf_counter()                # get the start time\n",
    "\n",
    "fd1 = {}                                   # make a dictionary to hold the frequency distribution\n",
    "for word in unique_words:                  # only loop over unique words so we don't count each more than once\n",
    "    fd1[word]= words_to_count.count(word)  # set the word to its count in the original text\n",
    "\n",
    "stop = time.perf_counter()                 # get the end time\n",
    "print('Version 1 took {} seconds'.format(stop - start))\n",
    "print('Alice appears {} times in the first 5000 words'.format(fd1['Alice']))"
   ]
  },
  {
   "cell_type": "markdown",
   "metadata": {},
   "source": [
    "Now to compare, create the frequency distribution using dictionary methods. Here you will count the words incrementally by adding one to each words count each time it is encountered. For this to work, the for-loop needs to go over all words, not just the unique words.\n",
    "\n",
    "**hint:** inside the loop you will assign `fd2[word]` to its previous value plus 1. The first time the word is encountered it will not be in the dictionary so you need to detect this and give it an initial value. How you do this is up to you (e.g., an `if` block or a dictionary method like `get()`, etc.)."
   ]
  },
  {
   "cell_type": "code",
   "execution_count": 56,
   "metadata": {
    "deletable": false,
    "nbgrader": {
     "checksum": "d019052723c0d32a9afb129b0c5b9bb3",
     "grade": false,
     "grade_id": "cell-bb775b8f526a3ea5",
     "locked": false,
     "schema_version": 1,
     "solution": true
    }
   },
   "outputs": [
    {
     "name": "stdout",
     "output_type": "stream",
     "text": [
      "Version 2: incrementally build a dictionary\n",
      "Version 2 took 0.018007074999331962 seconds\n",
      "Alice appears 50 times in the first 5000 words\n"
     ]
    }
   ],
   "source": [
    "print('Version 2: incrementally build a dictionary')\n",
    "\n",
    "start = time.perf_counter()             # get the start time\n",
    "\n",
    "fd2 = {}\n",
    "for word in words_to_count:\n",
    "    if word in fd2:\n",
    "        fd2[word] = fd2[word] + 1\n",
    "    else:\n",
    "        fd2[word] = 1\n",
    "    \n",
    "stop = time.perf_counter()              # get the end time\n",
    "print('Version 2 took {} seconds'.format(stop - start))\n",
    "print('Alice appears {} times in the first 5000 words'.format(fd2['Alice']))"
   ]
  },
  {
   "cell_type": "code",
   "execution_count": 7,
   "metadata": {
    "deletable": false,
    "editable": false,
    "nbgrader": {
     "checksum": "962731ab5b828a3c1cdc7c061f08ff16",
     "grade": true,
     "grade_id": "cell-6b0b6e7591330ff4",
     "locked": true,
     "points": 1,
     "schema_version": 1,
     "solution": false
    }
   },
   "outputs": [
    {
     "name": "stdout",
     "output_type": "stream",
     "text": [
      "All tests passed!\n"
     ]
    }
   ],
   "source": [
    "# ensure fd2 is the same as fd1\n",
    "assert fd1 == fd2\n",
    "\n",
    "print('All tests passed!')"
   ]
  },
  {
   "cell_type": "markdown",
   "metadata": {
    "deletable": false,
    "editable": false,
    "nbgrader": {
     "checksum": "f9c2f72278dbf716b3d3acc4bc87a7e8",
     "grade": false,
     "grade_id": "cell-76a4f7a37fd78128",
     "locked": true,
     "schema_version": 1,
     "solution": false
    }
   },
   "source": [
    "Why is Version 2 so much faster than Version 1?"
   ]
  },
  {
   "cell_type": "markdown",
   "metadata": {
    "deletable": false,
    "nbgrader": {
     "checksum": "c1f9510cdd93bcbb3976eb058ddc3282",
     "grade": true,
     "grade_id": "cell-f9fa8bbceb783caf",
     "locked": false,
     "points": 1,
     "schema_version": 1,
     "solution": true
    }
   },
   "source": [
    "In version 1, python has to go through the entire list each time in order to determine if the target word is present (and therefore the program has to run multiple times) whereas in version 2, python only has to go through the dictionary once and add 1 to the existing value of fd2 when the target word is located. "
   ]
  },
  {
   "cell_type": "markdown",
   "metadata": {},
   "source": [
    "Consider the following situations and say for each whether it is better to use a list or a dict.\n",
    "\n",
    "1. You are creating a part-of-speech tagged corpus where each word has an associated part-of-speech tag, e.g.:\n",
    "\n",
    "       The/DT  artist/NN  will/MD  record/VBZ  a/DT  new/JJ  record/NN\n",
    "   \n",
    "   You will use these to model syntax with POS-tag bigrams. Do you store these as a list of pairs (`[('The', 'DT'), ...]`) or as a dictionary (`{'The': 'DT', ...}`)?\n",
    "   \n",
    "2. You want to create a baseline POS-tagger which is used to assign the most frequent tag to a given word. For example, you want a function that takes a word and returns a tag.\n",
    "\n",
    "   Do you store these as a list of pairs (`[('record', 'VBZ'), ...]`) or a dictionary (`{'record': 'VBZ', ...}`)?"
   ]
  },
  {
   "cell_type": "markdown",
   "metadata": {
    "deletable": false,
    "nbgrader": {
     "checksum": "ac1163d464b8f52b6475de07ca25e61f",
     "grade": true,
     "grade_id": "cell-39ebd59e359361d2",
     "locked": false,
     "points": 2,
     "schema_version": 1,
     "solution": true
    }
   },
   "source": [
    "1. List (you don't want to lose the word order information)\n",
    "2. Dict"
   ]
  },
  {
   "cell_type": "markdown",
   "metadata": {},
   "source": [
    "# Part 2: Functions\n",
    "\n",
    "Functions are useful so you only have to write frequently used code once and then you can call it from other places in your code later. This helps reduce work and bugs. Write a function named `is_empty()` that takes Python data structures like lists and returns `True` if the structure is empty and `False` if not."
   ]
  },
  {
   "cell_type": "code",
   "execution_count": 28,
   "metadata": {
    "deletable": false,
    "nbgrader": {
     "checksum": "56724b2449997ade31803a1afb13655e",
     "grade": false,
     "grade_id": "cell-fa6a99386a4668d1",
     "locked": false,
     "schema_version": 1,
     "solution": true
    }
   },
   "outputs": [],
   "source": [
    "def is_empty(s):\n",
    "    if len(s) == 0:\n",
    "        return True\n",
    "    else:\n",
    "        return False"
   ]
  },
  {
   "cell_type": "code",
   "execution_count": 29,
   "metadata": {
    "deletable": false,
    "editable": false,
    "nbgrader": {
     "checksum": "e549a456440aaf3da115a67357ed1c81",
     "grade": true,
     "grade_id": "cell-4865a80903af6d63",
     "locked": true,
     "points": 2,
     "schema_version": 1,
     "solution": false
    }
   },
   "outputs": [
    {
     "name": "stdout",
     "output_type": "stream",
     "text": [
      "All tests passed!\n"
     ]
    }
   ],
   "source": [
    "assert is_empty([]) == True\n",
    "assert is_empty({}) == True\n",
    "assert is_empty([1,2]) == False\n",
    "print('All tests passed!')"
   ]
  },
  {
   "cell_type": "markdown",
   "metadata": {},
   "source": [
    "Functions must reach a `return` statement to return a value other than `None`. Once a `return` statement is reached, the function exits immediately. Please fix the bugs (hint: there are 2 bugs) in the following function:"
   ]
  },
  {
   "cell_type": "code",
   "execution_count": 54,
   "metadata": {},
   "outputs": [],
   "source": [
    "def word_lengths(words):\n",
    "    \"\"\"Return a list of word lengths for each word in words.\"\"\"\n",
    "    lengths = []\n",
    "    if len(words) > 0:\n",
    "        for word in words:\n",
    "            lengths.append(len(word))\n",
    "    return lengths"
   ]
  },
  {
   "cell_type": "code",
   "execution_count": 55,
   "metadata": {
    "deletable": false,
    "editable": false,
    "nbgrader": {
     "checksum": "591213e9ad0032b0e725380771bbf893",
     "grade": true,
     "grade_id": "cell-ebf36ea9bd6751ff",
     "locked": true,
     "points": 2,
     "schema_version": 1,
     "solution": false
    }
   },
   "outputs": [
    {
     "name": "stdout",
     "output_type": "stream",
     "text": [
      "All tests passed!\n"
     ]
    }
   ],
   "source": [
    "assert word_lengths(['The', 'dog', 'barks', '.']) == [3, 3, 5, 1]\n",
    "assert word_lengths([]) == []\n",
    "assert word_lengths(['']) == [0]\n",
    "print('All tests passed!')"
   ]
  }
 ],
 "metadata": {
  "kernelspec": {
   "display_name": "Python 3",
   "language": "python",
   "name": "python3"
  },
  "language_info": {
   "codemirror_mode": {
    "name": "ipython",
    "version": 3
   },
   "file_extension": ".py",
   "mimetype": "text/x-python",
   "name": "python",
   "nbconvert_exporter": "python",
   "pygments_lexer": "ipython3",
   "version": "3.7.3"
  }
 },
 "nbformat": 4,
 "nbformat_minor": 2
}
