{
 "cells": [
  {
   "cell_type": "markdown",
   "metadata": {},
   "source": [
    "Before you turn this problem in, make sure everything runs as expected. First, **restart the kernel** (in the menubar, select Kernel$\\rightarrow$Restart) and then **run all cells** (in the menubar, select Cell$\\rightarrow$Run All).\n",
    "\n",
    "Make sure you fill in any place that says `YOUR CODE HERE` or \"YOUR ANSWER HERE\", as well as your name and collaborators below:"
   ]
  },
  {
   "cell_type": "code",
   "execution_count": 1,
   "metadata": {},
   "outputs": [],
   "source": [
    "NAME = \"Teo Kai Wen\"\n",
    "COLLABORATORS = \"\""
   ]
  },
  {
   "cell_type": "markdown",
   "metadata": {},
   "source": [
    "---"
   ]
  },
  {
   "cell_type": "markdown",
   "metadata": {},
   "source": [
    "# Assignment 7\n",
    "\n",
    "This assignment goes a little deeper into the basic concepts covered in previous weeks and deals with advanced functions and testing."
   ]
  },
  {
   "cell_type": "markdown",
   "metadata": {},
   "source": [
    "## Q1 (1 point)\n",
    "\n",
    "Consider:\n",
    "\n",
    "```python\n",
    ">>> x = [1,2,3]\n",
    ">>> y = x\n",
    ">>> z = [1,2,3]\n",
    ">>> x == y\n",
    "True\n",
    ">>> x == z\n",
    "True\n",
    ">>> x is y\n",
    "True\n",
    ">>> x is z\n",
    "False\n",
    "```\n",
    "\n",
    "Why does `x is y` evaluate as `True` while `x is z` evaluates as `False`?"
   ]
  },
  {
   "cell_type": "markdown",
   "metadata": {
    "deletable": false,
    "nbgrader": {
     "checksum": "5a85ae1c5e0e5b723fa7356cc57a616c",
     "grade": true,
     "grade_id": "cell-d941e8c3aa6d124f",
     "locked": false,
     "points": 1,
     "schema_version": 1,
     "solution": true
    }
   },
   "source": [
    "'==' checks for value equality whereas 'is' checks whether both operands refer to the same object."
   ]
  },
  {
   "cell_type": "markdown",
   "metadata": {},
   "source": [
    "## Q2 (2 points)\n",
    "\n",
    "Transform the list comprehension below into normal `for` loops. Accumulate the results into a list named `words2`. You can reuse the imported `re` and the `lines` list for your answer."
   ]
  },
  {
   "cell_type": "code",
   "execution_count": 2,
   "metadata": {},
   "outputs": [
    {
     "data": {
      "text/plain": [
       "['Que',\n",
       " 'llueva',\n",
       " 'Que',\n",
       " 'llueva',\n",
       " 'El',\n",
       " 'quetzal',\n",
       " 'está',\n",
       " 'en',\n",
       " 'la',\n",
       " 'cueva']"
      ]
     },
     "execution_count": 2,
     "metadata": {},
     "output_type": "execute_result"
    }
   ],
   "source": [
    "import re\n",
    "lines = [\n",
    "    '¡Que llueva! ¡Que llueva!',\n",
    "    'El quetzal está en la cueva.'\n",
    "]\n",
    "words = [word for line in lines for word in re.findall(r'\\w+', line)]\n",
    "words"
   ]
  },
  {
   "cell_type": "code",
   "execution_count": 4,
   "metadata": {
    "deletable": false,
    "nbgrader": {
     "checksum": "9d0566ed4aa8235f8e2fbb0b7ec89b57",
     "grade": false,
     "grade_id": "cell-a724165575ada809",
     "locked": false,
     "schema_version": 1,
     "solution": true
    }
   },
   "outputs": [
    {
     "name": "stdout",
     "output_type": "stream",
     "text": [
      "['Que', 'llueva', 'Que', 'llueva', 'El', 'quetzal', 'está', 'en', 'la', 'cueva']\n"
     ]
    }
   ],
   "source": [
    "words2 = []\n",
    "words2str = ' '.join(lines)\n",
    "words3str = ''.join(c for c in words2str if c not in ('¡','!','.'))\n",
    "newword1 = words3str.split()\n",
    "for newword in words3str:\n",
    "    words2.extend(newword1)\n",
    "    print (newword1)\n",
    "    break"
   ]
  },
  {
   "cell_type": "code",
   "execution_count": 78,
   "metadata": {
    "deletable": false,
    "editable": false,
    "nbgrader": {
     "checksum": "88122b209cb7abe23e03e05fde2c0382",
     "grade": true,
     "grade_id": "cell-4350a2848f7fb265",
     "locked": true,
     "points": 2,
     "schema_version": 1,
     "solution": false
    }
   },
   "outputs": [
    {
     "name": "stdout",
     "output_type": "stream",
     "text": [
      "Test passed!\n"
     ]
    }
   ],
   "source": [
    "assert words == words2\n",
    "print('Test passed!')"
   ]
  },
  {
   "cell_type": "markdown",
   "metadata": {},
   "source": [
    "## Q3 (2 points)\n",
    "\n",
    "Imagine we want a function that will take a list of words and return a list with each word reversed, like this:\n",
    "\n",
    "```python\n",
    ">>> reverse_words(['one', 'two', 'three'])\n",
    "['eno', 'owt', 'eerht']\n",
    "```\n",
    "\n",
    "Below are three ways you could do that (recall that `s[::-1]` is one way to reverse a string `s`):\n",
    "\n",
    "```python\n",
    "def reverse_words1(words):\n",
    "    if words:\n",
    "        return [words[0][::-1]] + reverse_words1(words[1:])\n",
    "    else:\n",
    "        return []\n",
    "\n",
    "def reverse_words2(words):\n",
    "    rev_words = []\n",
    "    for word in words:\n",
    "        rev_words.append(word[::-1])\n",
    "    return rev_words\n",
    "\n",
    "def reverse_words3(words):\n",
    "    for word in words:\n",
    "        yield word[::-1]\n",
    "```\n",
    "\n",
    "For each of these functions, say which is:\n",
    "\n",
    "* an accumulating function\n",
    "* a generator function\n",
    "* a recursive function"
   ]
  },
  {
   "cell_type": "markdown",
   "metadata": {
    "deletable": false,
    "nbgrader": {
     "checksum": "b87d75dcd13d3c1a7eba67e682a39cdd",
     "grade": true,
     "grade_id": "cell-68993764d628fd55",
     "locked": false,
     "points": 2,
     "schema_version": 1,
     "solution": true
    }
   },
   "source": [
    "reverse_words1 is a recursive function\n",
    "\n",
    "reverse_words2 is an accumulating function\n",
    "\n",
    "reverse_words3 is a generator function"
   ]
  },
  {
   "cell_type": "markdown",
   "metadata": {},
   "source": [
    "## Q4 (1 point)\n",
    "\n",
    "For the three functions in [Q3](#Q3), note that they appear to return the same results:\n",
    "\n",
    "```python\n",
    ">>> list(reverse_words1(['one', 'two', 'three']))\n",
    "['eno', 'owt', 'eerht']\n",
    "\n",
    ">>> list(reverse_words2(['one', 'two', 'three']))\n",
    "['eno', 'owt', 'eerht']\n",
    "\n",
    ">>> list(reverse_words3(['one', 'two', 'three']))\n",
    "['eno', 'owt', 'eerht']\n",
    "```\n",
    "\n",
    "But this is misleading because the results are cast to a list. Which of the functions does not actually return a list?"
   ]
  },
  {
   "cell_type": "markdown",
   "metadata": {
    "deletable": false,
    "nbgrader": {
     "checksum": "71db26ce971b5a1dc0686fc0c197109c",
     "grade": true,
     "grade_id": "cell-2732ca443f15eec4",
     "locked": false,
     "points": 1,
     "schema_version": 1,
     "solution": true
    }
   },
   "source": [
    "reverse_words3"
   ]
  },
  {
   "cell_type": "markdown",
   "metadata": {},
   "source": [
    "## Q5 (2 points)\n",
    "\n",
    "All three functions in [Q3](#Q3) apply an operation to each item on a list. Python's built-in [map()](https://docs.python.org/3/library/functions.html#map) is a [higher-order function](https://en.wikipedia.org/wiki/Higher-order_function) that applies some other function to each item on a list, such as the following which maps the `int()` function to a list of number strings in order to cast them to integers:\n",
    "\n",
    "```python\n",
    ">>> list(map(int, ['1', '10', '25']))\n",
    "[1, 10, 25]\n",
    "```\n",
    "\n",
    "It seems like a `map()` is a good match for our purpose. But the way we reversed a string (`s[::-1]`) cannot be passed as the function for `map()`:\n",
    "\n",
    "```python\n",
    ">>> list(map([::-1], ['one', 'two', 'three']))\n",
    "  File \"<stdin>\", line 1\n",
    "    list(map([::-1], ['one', 'two', 'three']))\n",
    "              ^\n",
    "SyntaxError: invalid syntax\n",
    "```\n",
    "\n",
    "What is one way you can make string-reversal into a function that `map()` would accept? You may either answer in words or provide an implementation."
   ]
  },
  {
   "cell_type": "code",
   "execution_count": 10,
   "metadata": {
    "deletable": false,
    "nbgrader": {
     "checksum": "1f22a01b9301256d280cf85d271c30b9",
     "grade": true,
     "grade_id": "cell-9a6fe8dedca4abcc",
     "locked": false,
     "points": 2,
     "schema_version": 1,
     "solution": true
    }
   },
   "outputs": [
    {
     "data": {
      "text/plain": [
       "['eno', 'owt', 'eerht']"
      ]
     },
     "execution_count": 10,
     "metadata": {},
     "output_type": "execute_result"
    }
   ],
   "source": [
    "rightway = ['one', 'two', 'three']\n",
    "wrongway = list(map(lambda x: \"\".join(reversed(x)), rightway))\n",
    "wrongway"
   ]
  },
  {
   "cell_type": "markdown",
   "metadata": {},
   "source": [
    "## Q6 (2 points)\n",
    "\n",
    "For the following scenarios, say if **unit testing**, **regression testing**, **performance testing**, or **stress testing** would help.\n",
    "\n",
    "* You have inherited a project written in [Perl](https://en.wikipedia.org/wiki/Perl) but your boss wants you to rewrite it in Python. You want to be sure that the Python version gives the same results as the Perl version. What kind of tests can help here, and why?"
   ]
  },
  {
   "cell_type": "markdown",
   "metadata": {
    "deletable": false,
    "nbgrader": {
     "checksum": "dfc31c416124a6e0012b9f29e994c7c9",
     "grade": true,
     "grade_id": "cell-df5af7508cc859d1",
     "locked": false,
     "points": 1,
     "schema_version": 1,
     "solution": true
    }
   },
   "source": [
    "Performance testing and regression testing. Performance testing will test the efficiency of the new code as compared to the original code and regression testing will confirm that any changes have not affected existing features (i.e. that the whole program runs smoothly)."
   ]
  },
  {
   "cell_type": "markdown",
   "metadata": {},
   "source": [
    "* You have ported the Perl project to Python and you have ensured that the results are correct for small inputs, but you cannot confirm with the full test suite because it takes too long and sometimes uses all the system's memory. You want to find out where the code is inefficient. What kinds of tests can help here, and why?"
   ]
  },
  {
   "cell_type": "markdown",
   "metadata": {
    "deletable": false,
    "nbgrader": {
     "checksum": "24e085d0cb728e50fe286d85a4577454",
     "grade": true,
     "grade_id": "cell-2e3d54b505845d71",
     "locked": false,
     "points": 1,
     "schema_version": 1,
     "solution": true
    }
   },
   "source": [
    "Unit testing and performance testing. Unit testing tests a single function or method at a time, and performance testing will test the efficiency of the new code as compared to the original code."
   ]
  }
 ],
 "metadata": {
  "kernelspec": {
   "display_name": "Python 3",
   "language": "python",
   "name": "python3"
  },
  "language_info": {
   "codemirror_mode": {
    "name": "ipython",
    "version": 3
   },
   "file_extension": ".py",
   "mimetype": "text/x-python",
   "name": "python",
   "nbconvert_exporter": "python",
   "pygments_lexer": "ipython3",
   "version": "3.7.3"
  }
 },
 "nbformat": 4,
 "nbformat_minor": 2
}
